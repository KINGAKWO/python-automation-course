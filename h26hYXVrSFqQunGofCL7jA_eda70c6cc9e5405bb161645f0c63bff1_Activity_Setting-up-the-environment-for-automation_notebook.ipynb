{
 "cells": [
  {
   "cell_type": "markdown",
   "id": "57e50527-ea5f-45a3-8ff6-fc8645a051d0",
   "metadata": {},
   "source": [
    "# Project: Setting up the environment for automation\n"
   ]
  },
  {
   "cell_type": "code",
   "execution_count": 1,
   "id": "c5a172dc-81c2-4011-81f1-93981e8ca36f",
   "metadata": {},
   "outputs": [
    {
     "name": "stderr",
     "output_type": "stream",
     "text": [
      "The system cannot find the path specified.\n"
     ]
    }
   ],
   "source": [
    "!.venv\\Scripts\\activate# Your code here... "
   ]
  },
  {
   "cell_type": "code",
   "execution_count": 2,
   "id": "816acf55",
   "metadata": {},
   "outputs": [
    {
     "name": "stderr",
     "output_type": "stream",
     "text": [
      "The system cannot find the path specified.\n"
     ]
    }
   ],
   "source": [
    "!/usr/bin/env python3"
   ]
  },
  {
   "cell_type": "code",
   "execution_count": null,
   "id": "7963ee38",
   "metadata": {},
   "outputs": [
    {
     "data": {
      "text/plain": [
       "_StoreAction(option_strings=[], dest='output_file', nargs=None, const=None, default=None, type=None, choices=None, required=True, help='path to the output file', metavar=None)"
      ]
     },
     "execution_count": 3,
     "metadata": {},
     "output_type": "execute_result"
    }
   ],
   "source": [
    "import re\n",
    "import argparse\n",
    "import os\n",
    "def analyze_data(input_file, output_file):\n",
    "    with open(input_file, 'r') as f:\n",
    "        text = f.read()\n",
    "    words = re.findall(r'\\b\\w+\\b', text.lower()) # Find all words\n",
    "    word_counts = {}\n",
    "    for word in words:\n",
    "        word_counts[word] = word_counts.get(word, 0) + 1\n",
    "\n",
    "    with open(output_file, 'w') as f:\n",
    "        for word, count in word_counts.items():\n",
    "            f.write(f\"{word}: {count}\\n\")\n",
    "\n",
    "parser = argparse.ArgumentParser(description='Analyze data from a file.')\n",
    "parser.add_argument('input_file', help='path to the input file') \n",
    "parser.add_argument('output_file', help='path to the output file')"
   ]
  },
  {
   "cell_type": "code",
   "execution_count": 4,
   "id": "24713e9e",
   "metadata": {},
   "outputs": [],
   "source": [
    "arguments = ['input.txt', 'output.txt'] \n",
    "args = parser.parse_args(arguments)\n"
   ]
  },
  {
   "cell_type": "code",
   "execution_count": 5,
   "id": "08ad7a86",
   "metadata": {},
   "outputs": [],
   "source": [
    "analyze_data(args.input_file, args.output_file)"
   ]
  }
 ],
 "metadata": {
  "kernelspec": {
   "display_name": "CEC323",
   "language": "python",
   "name": "cec323"
  },
  "language_info": {
   "codemirror_mode": {
    "name": "ipython",
    "version": 3
   },
   "file_extension": ".py",
   "mimetype": "text/x-python",
   "name": "python",
   "nbconvert_exporter": "python",
   "pygments_lexer": "ipython3",
   "version": "3.9.13"
  }
 },
 "nbformat": 4,
 "nbformat_minor": 5
}
